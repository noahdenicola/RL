{
  "nbformat": 4,
  "nbformat_minor": 0,
  "metadata": {
    "colab": {
      "provenance": [],
      "authorship_tag": "ABX9TyNhCYXXbTsYITuXApgpj7yf",
      "include_colab_link": true
    },
    "kernelspec": {
      "name": "python3",
      "display_name": "Python 3"
    },
    "language_info": {
      "name": "python"
    }
  },
  "cells": [
    {
      "cell_type": "markdown",
      "metadata": {
        "id": "view-in-github",
        "colab_type": "text"
      },
      "source": [
        "<a href=\"https://colab.research.google.com/github/noahdenicola/RL/blob/main/NoahDeNicola_TSP_InstaDeep.ipynb\" target=\"_parent\"><img src=\"https://colab.research.google.com/assets/colab-badge.svg\" alt=\"Open In Colab\"/></a>"
      ]
    },
    {
      "cell_type": "code",
      "execution_count": 6,
      "metadata": {
        "id": "FEYuDjIuOOeB",
        "colab": {
          "base_uri": "https://localhost:8080/"
        },
        "outputId": "22c5e799-a88f-4850-bdad-c82366da180e"
      },
      "outputs": [
        {
          "output_type": "stream",
          "name": "stdout",
          "text": [
            "Looking in indexes: https://pypi.org/simple, https://us-python.pkg.dev/colab-wheels/public/simple/\n",
            "Requirement already satisfied: jax in /usr/local/lib/python3.9/dist-packages (0.4.7)\n",
            "Requirement already satisfied: numpy in /usr/local/lib/python3.9/dist-packages (1.22.4)\n",
            "Requirement already satisfied: dm-haiku in /usr/local/lib/python3.9/dist-packages (0.0.9)\n",
            "Requirement already satisfied: jumanji in /usr/local/lib/python3.9/dist-packages (0.2.1)\n",
            "Requirement already satisfied: opt-einsum in /usr/local/lib/python3.9/dist-packages (from jax) (3.3.0)\n",
            "Requirement already satisfied: ml-dtypes>=0.0.3 in /usr/local/lib/python3.9/dist-packages (from jax) (0.0.4)\n",
            "Requirement already satisfied: scipy>=1.7 in /usr/local/lib/python3.9/dist-packages (from jax) (1.10.1)\n",
            "Requirement already satisfied: absl-py>=0.7.1 in /usr/local/lib/python3.9/dist-packages (from dm-haiku) (1.4.0)\n",
            "Requirement already satisfied: tabulate>=0.8.9 in /usr/local/lib/python3.9/dist-packages (from dm-haiku) (0.8.10)\n",
            "Requirement already satisfied: jmp>=0.0.2 in /usr/local/lib/python3.9/dist-packages (from dm-haiku) (0.0.4)\n",
            "Requirement already satisfied: typing-extensions>=4.0.0 in /usr/local/lib/python3.9/dist-packages (from jumanji) (4.5.0)\n",
            "Requirement already satisfied: gym>=0.22.0 in /usr/local/lib/python3.9/dist-packages (from jumanji) (0.25.2)\n",
            "Requirement already satisfied: jaxlib>=0.1.74 in /usr/local/lib/python3.9/dist-packages (from jumanji) (0.4.7+cuda11.cudnn86)\n",
            "Requirement already satisfied: dm-env>=1.5 in /usr/local/lib/python3.9/dist-packages (from jumanji) (1.6)\n",
            "Requirement already satisfied: Pillow>=9.0.0 in /usr/local/lib/python3.9/dist-packages (from jumanji) (9.5.0)\n",
            "Requirement already satisfied: chex<0.1.6,>=0.1.3 in /usr/local/lib/python3.9/dist-packages (from jumanji) (0.1.5)\n",
            "Requirement already satisfied: matplotlib>=3.3.4 in /usr/local/lib/python3.9/dist-packages (from jumanji) (3.7.1)\n",
            "Requirement already satisfied: dm-tree>=0.1.5 in /usr/local/lib/python3.9/dist-packages (from chex<0.1.6,>=0.1.3->jumanji) (0.1.8)\n",
            "Requirement already satisfied: toolz>=0.9.0 in /usr/local/lib/python3.9/dist-packages (from chex<0.1.6,>=0.1.3->jumanji) (0.12.0)\n",
            "Requirement already satisfied: gym-notices>=0.0.4 in /usr/local/lib/python3.9/dist-packages (from gym>=0.22.0->jumanji) (0.0.8)\n",
            "Requirement already satisfied: cloudpickle>=1.2.0 in /usr/local/lib/python3.9/dist-packages (from gym>=0.22.0->jumanji) (2.2.1)\n",
            "Requirement already satisfied: importlib-metadata>=4.8.0 in /usr/local/lib/python3.9/dist-packages (from gym>=0.22.0->jumanji) (6.2.0)\n",
            "Requirement already satisfied: fonttools>=4.22.0 in /usr/local/lib/python3.9/dist-packages (from matplotlib>=3.3.4->jumanji) (4.39.3)\n",
            "Requirement already satisfied: cycler>=0.10 in /usr/local/lib/python3.9/dist-packages (from matplotlib>=3.3.4->jumanji) (0.11.0)\n",
            "Requirement already satisfied: importlib-resources>=3.2.0 in /usr/local/lib/python3.9/dist-packages (from matplotlib>=3.3.4->jumanji) (5.12.0)\n",
            "Requirement already satisfied: kiwisolver>=1.0.1 in /usr/local/lib/python3.9/dist-packages (from matplotlib>=3.3.4->jumanji) (1.4.4)\n",
            "Requirement already satisfied: pyparsing>=2.3.1 in /usr/local/lib/python3.9/dist-packages (from matplotlib>=3.3.4->jumanji) (3.0.9)\n",
            "Requirement already satisfied: packaging>=20.0 in /usr/local/lib/python3.9/dist-packages (from matplotlib>=3.3.4->jumanji) (23.0)\n",
            "Requirement already satisfied: python-dateutil>=2.7 in /usr/local/lib/python3.9/dist-packages (from matplotlib>=3.3.4->jumanji) (2.8.2)\n",
            "Requirement already satisfied: contourpy>=1.0.1 in /usr/local/lib/python3.9/dist-packages (from matplotlib>=3.3.4->jumanji) (1.0.7)\n",
            "Requirement already satisfied: zipp>=0.5 in /usr/local/lib/python3.9/dist-packages (from importlib-metadata>=4.8.0->gym>=0.22.0->jumanji) (3.15.0)\n",
            "Requirement already satisfied: six>=1.5 in /usr/local/lib/python3.9/dist-packages (from python-dateutil>=2.7->matplotlib>=3.3.4->jumanji) (1.16.0)\n"
          ]
        }
      ],
      "source": [
        "!pip install jax numpy dm-haiku jumanji"
      ]
    },
    {
      "cell_type": "code",
      "source": [
        "import jax\n",
        "import jax.numpy as jnp\n",
        "import numpy as np\n",
        "import jumanji\n",
        "import haiku as hk\n",
        "\n",
        "from jax import value_and_grad"
      ],
      "metadata": {
        "id": "FGVwo8M_QRMN"
      },
      "execution_count": 7,
      "outputs": []
    },
    {
      "cell_type": "code",
      "source": [
        "#Get Key\n",
        "rng = jax.random.PRNGKey(42)\n",
        "\n",
        "#Defn Class\n",
        "class Network(hk.Module):\n",
        "  def __init__(self, hidden_size=64, output_size=1, name='QNet'):\n",
        "    super().__init__(name=name)\n",
        "    self.mlp = hk.nets.MLP(output_sizes=[hidden_size, output_size])\n",
        "\n",
        "  def __call__(self, x):\n",
        "    return self.mlp(x)\n",
        "\n",
        "#FeedForward Method\n",
        "def ffnet(x):\n",
        "  module = Network()\n",
        "  return module(x)\n",
        "\n",
        "#Initialise Model\n",
        "model = hk.transform(ffnet)\n",
        "params = model.init(rng, jnp.array([[1., 2., 3., 4.]]))\n",
        "\n",
        "for layer_name, weights in params.items():\n",
        "    print(layer_name)\n",
        "    print(\"Weights : {}, Biases : {}\\n\".format(params[layer_name][\"w\"].shape,params[layer_name][\"b\"].shape))"
      ],
      "metadata": {
        "colab": {
          "base_uri": "https://localhost:8080/"
        },
        "id": "28rsN_SjUl93",
        "outputId": "ae0e35f6-88dd-4014-b719-40c452e812a9"
      },
      "execution_count": 8,
      "outputs": [
        {
          "output_type": "stream",
          "name": "stdout",
          "text": [
            "QNet/~/mlp/~/linear_0\n",
            "Weights : (4, 64), Biases : (64,)\n",
            "\n",
            "QNet/~/mlp/~/linear_1\n",
            "Weights : (64, 1), Biases : (1,)\n",
            "\n"
          ]
        }
      ]
    },
    {
      "cell_type": "code",
      "source": [
        "#Training Methods\n",
        "def MSE(params, x, y):\n",
        "  y_hat = model.apply(params, rng, x)\n",
        "  y_hat = y_hat.squeeze()\n",
        "  return jnp.power(y-y_hat, 2).mean()\n",
        "\n",
        "def step(params, grads):\n",
        "  return params - lr*grads"
      ],
      "metadata": {
        "id": "P1f6YeDCh_kb"
      },
      "execution_count": 9,
      "outputs": []
    },
    {
      "cell_type": "code",
      "source": [
        "from sklearn import datasets\n",
        "from sklearn.model_selection import train_test_split\n",
        "\n",
        "X, Y = datasets.load_iris(return_X_y=True)\n",
        "\n",
        "X_train, X_test, Y_train, Y_test = train_test_split(X, Y, train_size=0.8, random_state=123)\n",
        "\n",
        "X_train, X_test, Y_train, Y_test = jnp.array(X_train, dtype=jnp.float32),\\\n",
        "                                   jnp.array(X_test, dtype=jnp.float32),\\\n",
        "                                   jnp.array(Y_train, dtype=jnp.float32),\\\n",
        "                                   jnp.array(Y_test, dtype=jnp.float32),\\\n",
        "\n",
        "samples, features = X_train.shape\n",
        "\n",
        "X = X_train\n",
        "Y = Y_train\n",
        "\n",
        "print(X.shape, Y.shape)\n"
      ],
      "metadata": {
        "colab": {
          "base_uri": "https://localhost:8080/"
        },
        "id": "CPJx4Bb7j9ng",
        "outputId": "4edf19dc-cfe2-4937-f36d-8da482bcc488"
      },
      "execution_count": 27,
      "outputs": [
        {
          "output_type": "stream",
          "name": "stdout",
          "text": [
            "(120, 4) (120,)\n"
          ]
        },
        {
          "output_type": "stream",
          "name": "stderr",
          "text": [
            "/usr/local/lib/python3.9/dist-packages/ipykernel/ipkernel.py:283: DeprecationWarning: `should_run_async` will not call `transform_cell` automatically in the future. Please pass the result to `transformed_cell` argument and any exception that happen during thetransform in `preprocessing_exc_tuple` in IPython 7.17 and above.\n",
            "  and should_run_async(code)\n"
          ]
        }
      ]
    },
    {
      "cell_type": "code",
      "source": [
        "#Training Loop\n",
        "epochs = 300\n",
        "lr = 1e-3\n",
        "\n",
        "for i in range(epochs):\n",
        "  loss, grads = value_and_grad(MSE)(params, X, Y)\n",
        "  params = jax.tree_map(step, params, grads)\n",
        "\n",
        "  if i%50 == 0:\n",
        "        print(\"MSE : {:.2f}\".format(loss))"
      ],
      "metadata": {
        "colab": {
          "base_uri": "https://localhost:8080/"
        },
        "id": "qLPt3CD4i1SW",
        "outputId": "65db18b1-ff9e-4f48-dc33-78d5289896ba"
      },
      "execution_count": 31,
      "outputs": [
        {
          "output_type": "stream",
          "name": "stdout",
          "text": [
            "MSE : 5.14\n",
            "MSE : 0.15\n",
            "MSE : 0.07\n",
            "MSE : 0.06\n",
            "MSE : 0.06\n",
            "MSE : 0.06\n"
          ]
        }
      ]
    },
    {
      "cell_type": "code",
      "source": [
        "from pandas.core.generic import validate_ascending\n",
        "#Rough Code\n",
        "gamma = 0.95\n",
        "lr = 1e-3\n",
        "dropout = 0.0\n",
        "env = 'TSP-v1'\n",
        "\n",
        "key = jax.random.PRNGKey(42)\n",
        "#Initialise Enviroment\n",
        "env = jumanji.make(env)\n",
        "state, timestep = jax.jit(env.reset)(key)\n",
        "\n",
        "#Initialise Agent\n",
        "class Network(hk.Module):\n",
        "  def __init__(self, hidden_size=64, output_size=env.num_cities, name='QNet'):\n",
        "    super().__init__(name=name)\n",
        "    self.mlp = hk.nets.MLP(output_sizes=[hidden_size, output_size])\n",
        "\n",
        "  def __call__(self, x):\n",
        "    return self.mlp(x)\n",
        "\n",
        "#FeedForward Method\n",
        "def ffnet(x):\n",
        "  module = Network()\n",
        "  return module(x)\n",
        "\n",
        "model = hk.transform(ffnet)\n",
        "\n",
        "params = model.init(key, jnp.ones(4*env.num_cities+1))\n",
        "\n",
        "for layer_name, weights in params.items():\n",
        "    print(layer_name)\n",
        "    print(\"Weights : {}, Biases : {}\\n\".format(params[layer_name][\"w\"].shape,params[layer_name][\"b\"].shape))\n",
        "\n",
        "\n",
        "\n",
        "coords = np.array(state.coordinates).flatten()\n",
        "pos = np.array(state.position)\n",
        "visd = np.array(state.visited_mask)\n",
        "traj = np.array(state.trajectory)\n",
        "\n",
        "\n",
        "\n",
        "input = np.concatenate((np.array([pos]),coords,visd,traj))\n",
        "\n",
        "print(model.apply(params, key, input))\n",
        "\n",
        "\n",
        "\n",
        "\n",
        "#env.render(state)\n",
        "\n",
        "# Interact with the (jit-able) environment\n",
        "#action = env.action_spec().generate_value()          # Action selection (dummy value here)\n",
        "#state, timestep = jax.jit(env.step)(state, 1) "
      ],
      "metadata": {
        "colab": {
          "base_uri": "https://localhost:8080/"
        },
        "id": "opxEwDKb6Esj",
        "outputId": "0f467725-ddec-43c9-c8e8-f02e1d47d516"
      },
      "execution_count": 46,
      "outputs": [
        {
          "output_type": "stream",
          "name": "stdout",
          "text": [
            "QNet/~/mlp/~/linear_0\n",
            "Weights : (81, 64), Biases : (64,)\n",
            "\n",
            "QNet/~/mlp/~/linear_1\n",
            "Weights : (64, 20), Biases : (20,)\n",
            "\n",
            "[-0.29890475  0.20182322  0.1413282   0.37635592  0.17104611 -0.86726326\n",
            " -0.06370689 -0.52756405 -0.21331409  0.3146694   0.30046424  0.10664225\n",
            " -0.7299781   1.2311776  -0.42945454 -0.10688388  0.07707344 -0.40289506\n",
            "  0.5234813  -0.2628813 ]\n"
          ]
        },
        {
          "output_type": "stream",
          "name": "stderr",
          "text": [
            "/usr/local/lib/python3.9/dist-packages/ipykernel/ipkernel.py:283: DeprecationWarning: `should_run_async` will not call `transform_cell` automatically in the future. Please pass the result to `transformed_cell` argument and any exception that happen during thetransform in `preprocessing_exc_tuple` in IPython 7.17 and above.\n",
            "  and should_run_async(code)\n"
          ]
        }
      ]
    }
  ]
}