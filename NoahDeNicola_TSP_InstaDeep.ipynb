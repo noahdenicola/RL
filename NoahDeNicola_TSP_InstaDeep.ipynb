{
  "nbformat": 4,
  "nbformat_minor": 0,
  "metadata": {
    "colab": {
      "provenance": [],
      "authorship_tag": "ABX9TyOcee3h6ESyku0R6Yt+A30y",
      "include_colab_link": true
    },
    "kernelspec": {
      "name": "python3",
      "display_name": "Python 3"
    },
    "language_info": {
      "name": "python"
    }
  },
  "cells": [
    {
      "cell_type": "markdown",
      "metadata": {
        "id": "view-in-github",
        "colab_type": "text"
      },
      "source": [
        "<a href=\"https://colab.research.google.com/github/noahdenicola/RL/blob/main/NoahDeNicola_TSP_InstaDeep.ipynb\" target=\"_parent\"><img src=\"https://colab.research.google.com/assets/colab-badge.svg\" alt=\"Open In Colab\"/></a>"
      ]
    },
    {
      "cell_type": "code",
      "execution_count": 1,
      "metadata": {
        "id": "FEYuDjIuOOeB",
        "colab": {
          "base_uri": "https://localhost:8080/"
        },
        "outputId": "2cf64fd0-d45a-493a-85ba-093ddbb81023"
      },
      "outputs": [
        {
          "output_type": "stream",
          "name": "stdout",
          "text": [
            "Looking in indexes: https://pypi.org/simple, https://us-python.pkg.dev/colab-wheels/public/simple/\n",
            "Requirement already satisfied: jax in /usr/local/lib/python3.9/dist-packages (0.4.8)\n",
            "Requirement already satisfied: numpy in /usr/local/lib/python3.9/dist-packages (1.22.4)\n",
            "Requirement already satisfied: dm-haiku in /usr/local/lib/python3.9/dist-packages (0.0.9)\n",
            "Requirement already satisfied: jumanji in /usr/local/lib/python3.9/dist-packages (0.2.1)\n",
            "Requirement already satisfied: scipy>=1.7 in /usr/local/lib/python3.9/dist-packages (from jax) (1.10.1)\n",
            "Requirement already satisfied: ml-dtypes>=0.0.3 in /usr/local/lib/python3.9/dist-packages (from jax) (0.0.4)\n",
            "Requirement already satisfied: opt-einsum in /usr/local/lib/python3.9/dist-packages (from jax) (3.3.0)\n",
            "Requirement already satisfied: jmp>=0.0.2 in /usr/local/lib/python3.9/dist-packages (from dm-haiku) (0.0.4)\n",
            "Requirement already satisfied: absl-py>=0.7.1 in /usr/local/lib/python3.9/dist-packages (from dm-haiku) (1.4.0)\n",
            "Requirement already satisfied: tabulate>=0.8.9 in /usr/local/lib/python3.9/dist-packages (from dm-haiku) (0.8.10)\n",
            "Requirement already satisfied: gym>=0.22.0 in /usr/local/lib/python3.9/dist-packages (from jumanji) (0.25.2)\n",
            "Requirement already satisfied: typing-extensions>=4.0.0 in /usr/local/lib/python3.9/dist-packages (from jumanji) (4.5.0)\n",
            "Requirement already satisfied: dm-env>=1.5 in /usr/local/lib/python3.9/dist-packages (from jumanji) (1.6)\n",
            "Requirement already satisfied: Pillow>=9.0.0 in /usr/local/lib/python3.9/dist-packages (from jumanji) (9.5.0)\n",
            "Requirement already satisfied: chex<0.1.6,>=0.1.3 in /usr/local/lib/python3.9/dist-packages (from jumanji) (0.1.5)\n",
            "Requirement already satisfied: matplotlib>=3.3.4 in /usr/local/lib/python3.9/dist-packages (from jumanji) (3.7.1)\n",
            "Requirement already satisfied: jaxlib>=0.1.74 in /usr/local/lib/python3.9/dist-packages (from jumanji) (0.4.7+cuda11.cudnn86)\n",
            "Requirement already satisfied: dm-tree>=0.1.5 in /usr/local/lib/python3.9/dist-packages (from chex<0.1.6,>=0.1.3->jumanji) (0.1.8)\n",
            "Requirement already satisfied: toolz>=0.9.0 in /usr/local/lib/python3.9/dist-packages (from chex<0.1.6,>=0.1.3->jumanji) (0.12.0)\n",
            "Requirement already satisfied: cloudpickle>=1.2.0 in /usr/local/lib/python3.9/dist-packages (from gym>=0.22.0->jumanji) (2.2.1)\n",
            "Requirement already satisfied: gym-notices>=0.0.4 in /usr/local/lib/python3.9/dist-packages (from gym>=0.22.0->jumanji) (0.0.8)\n",
            "Requirement already satisfied: importlib-metadata>=4.8.0 in /usr/local/lib/python3.9/dist-packages (from gym>=0.22.0->jumanji) (6.3.0)\n",
            "Requirement already satisfied: packaging>=20.0 in /usr/local/lib/python3.9/dist-packages (from matplotlib>=3.3.4->jumanji) (23.0)\n",
            "Requirement already satisfied: pyparsing>=2.3.1 in /usr/local/lib/python3.9/dist-packages (from matplotlib>=3.3.4->jumanji) (3.0.9)\n",
            "Requirement already satisfied: contourpy>=1.0.1 in /usr/local/lib/python3.9/dist-packages (from matplotlib>=3.3.4->jumanji) (1.0.7)\n",
            "Requirement already satisfied: python-dateutil>=2.7 in /usr/local/lib/python3.9/dist-packages (from matplotlib>=3.3.4->jumanji) (2.8.2)\n",
            "Requirement already satisfied: kiwisolver>=1.0.1 in /usr/local/lib/python3.9/dist-packages (from matplotlib>=3.3.4->jumanji) (1.4.4)\n",
            "Requirement already satisfied: importlib-resources>=3.2.0 in /usr/local/lib/python3.9/dist-packages (from matplotlib>=3.3.4->jumanji) (5.12.0)\n",
            "Requirement already satisfied: cycler>=0.10 in /usr/local/lib/python3.9/dist-packages (from matplotlib>=3.3.4->jumanji) (0.11.0)\n",
            "Requirement already satisfied: fonttools>=4.22.0 in /usr/local/lib/python3.9/dist-packages (from matplotlib>=3.3.4->jumanji) (4.39.3)\n",
            "Requirement already satisfied: zipp>=0.5 in /usr/local/lib/python3.9/dist-packages (from importlib-metadata>=4.8.0->gym>=0.22.0->jumanji) (3.15.0)\n",
            "Requirement already satisfied: six>=1.5 in /usr/local/lib/python3.9/dist-packages (from python-dateutil>=2.7->matplotlib>=3.3.4->jumanji) (1.16.0)\n"
          ]
        }
      ],
      "source": [
        "!pip install jax numpy dm-haiku jumanji"
      ]
    },
    {
      "cell_type": "code",
      "source": [
        "import jax\n",
        "import jax.numpy as jnp\n",
        "import numpy as np\n",
        "import jumanji\n",
        "import haiku as hk\n",
        "\n",
        "from jax import value_and_grad"
      ],
      "metadata": {
        "colab": {
          "base_uri": "https://localhost:8080/"
        },
        "id": "FGVwo8M_QRMN",
        "outputId": "5a2a563d-4a84-4dfc-a471-53015a0d751b"
      },
      "execution_count": 2,
      "outputs": [
        {
          "output_type": "stream",
          "name": "stderr",
          "text": [
            "WARNING:jax._src.xla_bridge:No GPU/TPU found, falling back to CPU. (Set TF_CPP_MIN_LOG_LEVEL=0 and rerun for more info.)\n"
          ]
        }
      ]
    },
    {
      "cell_type": "code",
      "source": [
        "#Get Key\n",
        "rng = jax.random.PRNGKey(42)\n",
        "\n",
        "#Defn Class\n",
        "class Network(hk.Module):\n",
        "  def __init__(self, hidden_size=64, output_size=1, name='QNet'):\n",
        "    super().__init__(name=name)\n",
        "    self.mlp = hk.nets.MLP(output_sizes=[hidden_size, output_size])\n",
        "\n",
        "  def __call__(self, x):\n",
        "    return self.mlp(x)\n",
        "\n",
        "#FeedForward Method\n",
        "def ffnet(x):\n",
        "  module = Network()\n",
        "  return module(x)\n",
        "\n",
        "#Initialise Model\n",
        "model = hk.transform(ffnet)\n",
        "params = model.init(rng, jnp.array([[1., 2., 3., 4.]]))\n",
        "\n",
        "for layer_name, weights in params.items():\n",
        "    print(layer_name)\n",
        "    print(\"Weights : {}, Biases : {}\\n\".format(params[layer_name][\"w\"].shape,params[layer_name][\"b\"].shape))"
      ],
      "metadata": {
        "colab": {
          "base_uri": "https://localhost:8080/"
        },
        "id": "28rsN_SjUl93",
        "outputId": "ae86bf65-c2ce-425b-ce41-d8bd424f7f58"
      },
      "execution_count": 3,
      "outputs": [
        {
          "output_type": "stream",
          "name": "stderr",
          "text": [
            "/usr/local/lib/python3.9/dist-packages/jax/_src/deprecations.py:51: DeprecationWarning: jax.xla is deprecated. Use jax.interpreters.xla\n",
            "  warnings.warn(message, DeprecationWarning)\n"
          ]
        },
        {
          "output_type": "stream",
          "name": "stdout",
          "text": [
            "QNet/~/mlp/~/linear_0\n",
            "Weights : (4, 64), Biases : (64,)\n",
            "\n",
            "QNet/~/mlp/~/linear_1\n",
            "Weights : (64, 1), Biases : (1,)\n",
            "\n"
          ]
        }
      ]
    },
    {
      "cell_type": "code",
      "source": [
        "#Training Methods\n",
        "def MSE(params, x, y):\n",
        "  y_hat = model.apply(params, rng, x)\n",
        "  y_hat = y_hat.squeeze()\n",
        "  return jnp.power(y-y_hat, 2).mean()\n",
        "\n",
        "def step(params, grads):\n",
        "  return params - lr*grads\n",
        "\n",
        "def printParams(all_params):\n",
        "  print(\"Main Network Parameters\")\n",
        "  pr = True\n",
        "  for p in all_params:\n",
        "    for layer_name, weights in p.items():\n",
        "        print(layer_name)\n",
        "        print(\"Weights : {}, Biases : {}\\n\".format(params[layer_name][\"w\"].shape,params[layer_name][\"b\"].shape))\n",
        "    if pr:\n",
        "      pr = False\n",
        "      print(\"Target Network Parameters\")\n",
        "\n",
        "def makeState(env_obvservation):\n",
        "  coords = np.array(env_obvservation.coordinates).flatten()\n",
        "  pos = np.array(env_obvservation.position)\n",
        "  visd = np.array(env_obvservation.visited_mask)\n",
        "  traj = np.array(env_obvservation.trajectory)\n",
        "  return np.concatenate((np.array([pos]),coords,visd,traj))\n",
        "\n",
        "\n",
        "def DQN_update(key, model, all_params, memory, batchSize=32, gamma=0.99):\n",
        "  #Sample Minibatch \n",
        "  l = len(memory)\n",
        "  indicies = jax.random.choice(rng, l, (1,min(batchSize, l))).squeeze()\n",
        "\n",
        "  #Initialise Loop\n",
        "  Q = jnp.zeros(l)\n",
        "  Q_hat = jnp.zeros(l)\n",
        "  loc = 0\n",
        "\n",
        "  #for experience in minibatch\n",
        "  for i in indicies:\n",
        "    exp = memory[i] #exp = [state, action, nextState, reward, done]\n",
        "  \n",
        "    #Get max_{a'}target_Q(state,a')\n",
        "    nxtQ = 0\n",
        "    if not exp[4]:\n",
        "      nxtQ = jnp.max(model.apply(all_params[1], key, exp[0]))\n",
        "\n",
        "    #q_hat = { r + gamma*maxQ(s,a') if not done, r otherwise\n",
        "    q_hat = exp[3] + gamma*nxtQ\n",
        "\n",
        "    #get q = main_Q(state, action)\n",
        "    q = model.apply(all_params[0], key, exp[0])[exp[1]]\n",
        "\n",
        "    #store\n",
        "    Q[loc] = q\n",
        "    Q_hat[loc] = q_hat\n",
        "    loc +=1\n",
        "\n",
        "  return Q, Q_hat\n",
        "\n",
        "  \n"
      ],
      "metadata": {
        "colab": {
          "base_uri": "https://localhost:8080/"
        },
        "id": "P1f6YeDCh_kb",
        "outputId": "9616bbf6-a25a-4bf3-a4d5-57c41d0ddc10"
      },
      "execution_count": 26,
      "outputs": [
        {
          "output_type": "stream",
          "name": "stderr",
          "text": [
            "/usr/local/lib/python3.9/dist-packages/ipykernel/ipkernel.py:283: DeprecationWarning: `should_run_async` will not call `transform_cell` automatically in the future. Please pass the result to `transformed_cell` argument and any exception that happen during thetransform in `preprocessing_exc_tuple` in IPython 7.17 and above.\n",
            "  and should_run_async(code)\n"
          ]
        }
      ]
    },
    {
      "cell_type": "code",
      "source": [
        "#Test\n",
        "from sklearn import datasets\n",
        "from sklearn.model_selection import train_test_split\n",
        "\n",
        "X, Y = datasets.load_iris(return_X_y=True)\n",
        "\n",
        "X_train, X_test, Y_train, Y_test = train_test_split(X, Y, train_size=0.8, random_state=123)\n",
        "\n",
        "X_train, X_test, Y_train, Y_test = jnp.array(X_train, dtype=jnp.float32),\\\n",
        "                                   jnp.array(X_test, dtype=jnp.float32),\\\n",
        "                                   jnp.array(Y_train, dtype=jnp.float32),\\\n",
        "                                   jnp.array(Y_test, dtype=jnp.float32),\\\n",
        "\n",
        "samples, features = X_train.shape\n",
        "\n",
        "X = X_train\n",
        "Y = Y_train\n",
        "\n",
        "print(X.shape, Y.shape)\n"
      ],
      "metadata": {
        "colab": {
          "base_uri": "https://localhost:8080/"
        },
        "id": "CPJx4Bb7j9ng",
        "outputId": "dd306613-e46c-40f7-ad46-8c467e4ef1b8"
      },
      "execution_count": 5,
      "outputs": [
        {
          "output_type": "stream",
          "name": "stdout",
          "text": [
            "(120, 4) (120,)\n"
          ]
        }
      ]
    },
    {
      "cell_type": "code",
      "source": [
        "#Training Loop\n",
        "epochs = 300\n",
        "lr = 1e-3\n",
        "\n",
        "for i in range(epochs):\n",
        "  loss, grads = value_and_grad(MSE)(params, X, Y)\n",
        "  params = jax.tree_map(step, params, grads)\n",
        "\n",
        "  if i%50 == 0:\n",
        "        print(\"MSE : {:.2f}\".format(loss))"
      ],
      "metadata": {
        "colab": {
          "base_uri": "https://localhost:8080/"
        },
        "id": "qLPt3CD4i1SW",
        "outputId": "65db18b1-ff9e-4f48-dc33-78d5289896ba"
      },
      "execution_count": 31,
      "outputs": [
        {
          "output_type": "stream",
          "name": "stdout",
          "text": [
            "MSE : 5.14\n",
            "MSE : 0.15\n",
            "MSE : 0.07\n",
            "MSE : 0.06\n",
            "MSE : 0.06\n",
            "MSE : 0.06\n"
          ]
        }
      ]
    },
    {
      "cell_type": "code",
      "source": [
        "#Rough Code\n",
        "gamma = 0.95\n",
        "lr = 1e-3\n",
        "dropout = 0.0\n",
        "envName = 'TSP-v1'\n",
        "totalSteps = 5000\n",
        "\n",
        "\n",
        "key = jax.random.PRNGKey(42)\n",
        "#Initialise Enviroment\n",
        "env = jumanji.make(envName)\n",
        "state, timestep = jax.jit(env.reset)(key)\n",
        "\n",
        "playLength = env.num_cities+1 \n",
        "\n",
        "#Initialise Agent\n",
        "class Network(hk.Module):\n",
        "  def __init__(self, hidden_size=64, output_size=env.num_cities, name='QNet'):\n",
        "    super().__init__(name=name)\n",
        "    self.mlp = hk.nets.MLP(output_sizes=[hidden_size, output_size])\n",
        "\n",
        "  def __call__(self, x):\n",
        "    return self.mlp(x)\n",
        "\n",
        "#FeedForward Method\n",
        "def ffnet(x):\n",
        "  module = Network()\n",
        "  return module(x)\n",
        "\n",
        "model = hk.transform(ffnet)\n",
        "\n",
        "params = model.init(key, jnp.ones(4*env.num_cities+1))\n",
        "all_params = [params, params] #[main, target]\n",
        "printParams(all_params) \n",
        "\n",
        "steps = 0\n",
        "epoch = 0 \n",
        "while steps < totalSteps:\n",
        "  epoch += 1\n",
        "  score = 0 \n",
        "  state, timestep = jax.jit(env.reset)(key)\n",
        "  for t in range(playLength):\n",
        "    \n",
        "\n",
        "\n",
        "\n",
        "\n",
        "\n",
        "\n",
        "#env.render(state)\n",
        "\n",
        "# Interact with the (jit-able) environment\n",
        "#action = env.action_spec().generate_value()          # Action selection (dummy value here)\n",
        "#state, timestep = jax.jit(env.step)(state, 1) "
      ],
      "metadata": {
        "colab": {
          "base_uri": "https://localhost:8080/"
        },
        "id": "opxEwDKb6Esj",
        "outputId": "f5ceb41f-95e1-4618-fede-4e2f0e9f1774"
      },
      "execution_count": 27,
      "outputs": [
        {
          "output_type": "stream",
          "name": "stdout",
          "text": [
            "Main Network Parameters\n",
            "QNet/~/mlp/~/linear_0\n",
            "Weights : (81, 64), Biases : (64,)\n",
            "\n",
            "QNet/~/mlp/~/linear_1\n",
            "Weights : (64, 20), Biases : (20,)\n",
            "\n",
            "Target Network Parameters\n",
            "QNet/~/mlp/~/linear_0\n",
            "Weights : (81, 64), Biases : (64,)\n",
            "\n",
            "QNet/~/mlp/~/linear_1\n",
            "Weights : (64, 20), Biases : (20,)\n",
            "\n",
            "[-1.          0.39861631  0.66380632  0.90807796  0.36692286  0.1340189\n",
            "  0.94626236  0.70353913  0.77658904  0.66050398  0.86718833  0.24655128\n",
            "  0.95453084  0.88447797  0.24636471  0.31162012  0.65564668  0.19815516\n",
            "  0.45549071  0.19720936  0.75821579  0.22929907  0.80159271  0.43305802\n",
            "  0.16452789  0.51343548  0.82576847  0.00415325  0.84096241  0.05243218\n",
            "  0.41828477  0.39441133  0.69486761  0.11139321  0.34498036  0.94357693\n",
            "  0.20319915  0.30095315  0.84559286  0.13179469  0.6033287   0.\n",
            "  0.          0.          0.          0.          0.          0.\n",
            "  0.          0.          0.          0.          0.          0.\n",
            "  0.          0.          0.          0.          0.          0.\n",
            "  0.         -1.         -1.         -1.         -1.         -1.\n",
            " -1.         -1.         -1.         -1.         -1.         -1.\n",
            " -1.         -1.         -1.         -1.         -1.         -1.\n",
            " -1.         -1.         -1.        ]\n"
          ]
        },
        {
          "output_type": "stream",
          "name": "stderr",
          "text": [
            "/usr/local/lib/python3.9/dist-packages/jax/_src/deprecations.py:51: DeprecationWarning: jax.xla is deprecated. Use jax.interpreters.xla\n",
            "  warnings.warn(message, DeprecationWarning)\n"
          ]
        }
      ]
    }
  ]
}