{
  "nbformat": 4,
  "nbformat_minor": 0,
  "metadata": {
    "colab": {
      "provenance": [],
      "authorship_tag": "ABX9TyMkL3YmUhMbMapK20yU6azS",
      "include_colab_link": true
    },
    "kernelspec": {
      "name": "python3",
      "display_name": "Python 3"
    },
    "language_info": {
      "name": "python"
    }
  },
  "cells": [
    {
      "cell_type": "markdown",
      "metadata": {
        "id": "view-in-github",
        "colab_type": "text"
      },
      "source": [
        "<a href=\"https://colab.research.google.com/github/noahdenicola/RL/blob/main/NoahDeNicola_TSP_InstaDeep.ipynb\" target=\"_parent\"><img src=\"https://colab.research.google.com/assets/colab-badge.svg\" alt=\"Open In Colab\"/></a>"
      ]
    },
    {
      "cell_type": "code",
      "execution_count": 1,
      "metadata": {
        "id": "FEYuDjIuOOeB",
        "colab": {
          "base_uri": "https://localhost:8080/"
        },
        "outputId": "5a5e5a7d-8231-4e7b-e38c-4ea73ec8eaab"
      },
      "outputs": [
        {
          "output_type": "stream",
          "name": "stdout",
          "text": [
            "Looking in indexes: https://pypi.org/simple, https://us-python.pkg.dev/colab-wheels/public/simple/\n",
            "Requirement already satisfied: jax in /usr/local/lib/python3.9/dist-packages (from -r ../requirements.txt (line 1)) (0.4.7)\n",
            "Requirement already satisfied: numpy in /usr/local/lib/python3.9/dist-packages (from -r ../requirements.txt (line 2)) (1.22.4)\n",
            "Requirement already satisfied: dm-haiku in /usr/local/lib/python3.9/dist-packages (from -r ../requirements.txt (line 3)) (0.0.9)\n",
            "Requirement already satisfied: jumanji in /usr/local/lib/python3.9/dist-packages (from -r ../requirements.txt (line 4)) (0.2.1)\n",
            "Requirement already satisfied: opt-einsum in /usr/local/lib/python3.9/dist-packages (from jax->-r ../requirements.txt (line 1)) (3.3.0)\n",
            "Requirement already satisfied: ml-dtypes>=0.0.3 in /usr/local/lib/python3.9/dist-packages (from jax->-r ../requirements.txt (line 1)) (0.0.4)\n",
            "Requirement already satisfied: scipy>=1.7 in /usr/local/lib/python3.9/dist-packages (from jax->-r ../requirements.txt (line 1)) (1.10.1)\n",
            "Requirement already satisfied: jmp>=0.0.2 in /usr/local/lib/python3.9/dist-packages (from dm-haiku->-r ../requirements.txt (line 3)) (0.0.4)\n",
            "Requirement already satisfied: tabulate>=0.8.9 in /usr/local/lib/python3.9/dist-packages (from dm-haiku->-r ../requirements.txt (line 3)) (0.8.10)\n",
            "Requirement already satisfied: absl-py>=0.7.1 in /usr/local/lib/python3.9/dist-packages (from dm-haiku->-r ../requirements.txt (line 3)) (1.4.0)\n",
            "Requirement already satisfied: chex<0.1.6,>=0.1.3 in /usr/local/lib/python3.9/dist-packages (from jumanji->-r ../requirements.txt (line 4)) (0.1.5)\n",
            "Requirement already satisfied: matplotlib>=3.3.4 in /usr/local/lib/python3.9/dist-packages (from jumanji->-r ../requirements.txt (line 4)) (3.7.1)\n",
            "Requirement already satisfied: Pillow>=9.0.0 in /usr/local/lib/python3.9/dist-packages (from jumanji->-r ../requirements.txt (line 4)) (9.5.0)\n",
            "Requirement already satisfied: typing-extensions>=4.0.0 in /usr/local/lib/python3.9/dist-packages (from jumanji->-r ../requirements.txt (line 4)) (4.5.0)\n",
            "Requirement already satisfied: jaxlib>=0.1.74 in /usr/local/lib/python3.9/dist-packages (from jumanji->-r ../requirements.txt (line 4)) (0.4.7+cuda11.cudnn86)\n",
            "Requirement already satisfied: dm-env>=1.5 in /usr/local/lib/python3.9/dist-packages (from jumanji->-r ../requirements.txt (line 4)) (1.6)\n",
            "Requirement already satisfied: gym>=0.22.0 in /usr/local/lib/python3.9/dist-packages (from jumanji->-r ../requirements.txt (line 4)) (0.25.2)\n",
            "Requirement already satisfied: toolz>=0.9.0 in /usr/local/lib/python3.9/dist-packages (from chex<0.1.6,>=0.1.3->jumanji->-r ../requirements.txt (line 4)) (0.12.0)\n",
            "Requirement already satisfied: dm-tree>=0.1.5 in /usr/local/lib/python3.9/dist-packages (from chex<0.1.6,>=0.1.3->jumanji->-r ../requirements.txt (line 4)) (0.1.8)\n",
            "Requirement already satisfied: cloudpickle>=1.2.0 in /usr/local/lib/python3.9/dist-packages (from gym>=0.22.0->jumanji->-r ../requirements.txt (line 4)) (2.2.1)\n",
            "Requirement already satisfied: gym-notices>=0.0.4 in /usr/local/lib/python3.9/dist-packages (from gym>=0.22.0->jumanji->-r ../requirements.txt (line 4)) (0.0.8)\n",
            "Requirement already satisfied: importlib-metadata>=4.8.0 in /usr/local/lib/python3.9/dist-packages (from gym>=0.22.0->jumanji->-r ../requirements.txt (line 4)) (6.2.0)\n",
            "Requirement already satisfied: python-dateutil>=2.7 in /usr/local/lib/python3.9/dist-packages (from matplotlib>=3.3.4->jumanji->-r ../requirements.txt (line 4)) (2.8.2)\n",
            "Requirement already satisfied: cycler>=0.10 in /usr/local/lib/python3.9/dist-packages (from matplotlib>=3.3.4->jumanji->-r ../requirements.txt (line 4)) (0.11.0)\n",
            "Requirement already satisfied: contourpy>=1.0.1 in /usr/local/lib/python3.9/dist-packages (from matplotlib>=3.3.4->jumanji->-r ../requirements.txt (line 4)) (1.0.7)\n",
            "Requirement already satisfied: importlib-resources>=3.2.0 in /usr/local/lib/python3.9/dist-packages (from matplotlib>=3.3.4->jumanji->-r ../requirements.txt (line 4)) (5.12.0)\n",
            "Requirement already satisfied: fonttools>=4.22.0 in /usr/local/lib/python3.9/dist-packages (from matplotlib>=3.3.4->jumanji->-r ../requirements.txt (line 4)) (4.39.3)\n",
            "Requirement already satisfied: pyparsing>=2.3.1 in /usr/local/lib/python3.9/dist-packages (from matplotlib>=3.3.4->jumanji->-r ../requirements.txt (line 4)) (3.0.9)\n",
            "Requirement already satisfied: packaging>=20.0 in /usr/local/lib/python3.9/dist-packages (from matplotlib>=3.3.4->jumanji->-r ../requirements.txt (line 4)) (23.0)\n",
            "Requirement already satisfied: kiwisolver>=1.0.1 in /usr/local/lib/python3.9/dist-packages (from matplotlib>=3.3.4->jumanji->-r ../requirements.txt (line 4)) (1.4.4)\n",
            "Requirement already satisfied: zipp>=0.5 in /usr/local/lib/python3.9/dist-packages (from importlib-metadata>=4.8.0->gym>=0.22.0->jumanji->-r ../requirements.txt (line 4)) (3.15.0)\n",
            "Requirement already satisfied: six>=1.5 in /usr/local/lib/python3.9/dist-packages (from python-dateutil>=2.7->matplotlib>=3.3.4->jumanji->-r ../requirements.txt (line 4)) (1.16.0)\n"
          ]
        }
      ],
      "source": [
        "!pip install -r ../requirements.txt"
      ]
    },
    {
      "cell_type": "code",
      "source": [
        "!python --version\n"
      ],
      "metadata": {
        "colab": {
          "base_uri": "https://localhost:8080/"
        },
        "id": "FGVwo8M_QRMN",
        "outputId": "b306eeda-1e47-43f9-cf28-c2584c1393ba"
      },
      "execution_count": 2,
      "outputs": [
        {
          "output_type": "stream",
          "name": "stdout",
          "text": [
            "Python 3.9.16\n"
          ]
        }
      ]
    }
  ]
}